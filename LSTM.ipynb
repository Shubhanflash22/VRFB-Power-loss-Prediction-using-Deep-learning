{
 "cells": [
  {
   "cell_type": "code",
   "execution_count": null,
   "id": "3456d2d0",
   "metadata": {},
   "outputs": [],
   "source": [
    "!pip install tensorflow_addons\n",
    "#from google.colab import files\n",
    "import pandas as pd\n",
    "import numpy as np\n",
    "import tensorflow as tf\n",
    "from tensorflow.keras.models import Sequential\n",
    "from tensorflow.keras.layers import Dense, BatchNormalization, LSTM\n",
    "from tensorflow.keras.layers import Embedding\n",
    "from tensorflow.keras.optimizers import Adam\n",
    "from tensorflow.keras.layers import Dropout\n",
    "from tensorflow_addons.metrics import RSquare\n",
    "from keras.callbacks import ModelCheckpoint\n",
    "import matplotlib.pyplot as plt\n",
    "from sklearn.preprocessing import PolynomialFeatures\n",
    "import os\n",
    "from keras import backend as K"
   ]
  },
  {
   "cell_type": "code",
   "execution_count": null,
   "id": "cbae8761",
   "metadata": {},
   "outputs": [],
   "source": [
    "%cd Data"
   ]
  },
  {
   "cell_type": "code",
   "execution_count": null,
   "id": "58b8d263",
   "metadata": {},
   "outputs": [],
   "source": [
    "tf.__version__"
   ]
  },
  {
   "cell_type": "code",
   "execution_count": null,
   "id": "d99ce148",
   "metadata": {},
   "outputs": [],
   "source": [
    "temp = []\n",
    "files = []\n",
    "for filename in os.listdir():\n",
    "    if(filename!=\"Untitled.ipynb\" and filename!=\".ipynb_checkpoints\"):\n",
    "        print(filename)\n",
    "        files.append(filename)\n",
    "        temp.append(pd.read_excel(filename))"
   ]
  },
  {
   "cell_type": "code",
   "execution_count": null,
   "id": "cda87c80",
   "metadata": {},
   "outputs": [],
   "source": [
    "X = []\n",
    "y = []\n",
    "for i in range(len(temp)):\n",
    "  X.append(temp[i]['soc'].to_numpy())\n",
    "  y.append(temp[i]['Power Loss'].to_numpy())"
   ]
  },
  {
   "cell_type": "code",
   "execution_count": null,
   "id": "87b2b587",
   "metadata": {},
   "outputs": [],
   "source": [
    "def root_mean_squared_error(y_true, y_pred):\n",
    "        return K.sqrt(K.mean(K.square(y_pred - y_true))) "
   ]
  },
  {
   "cell_type": "code",
   "execution_count": null,
   "id": "c7583eff",
   "metadata": {},
   "outputs": [],
   "source": [
    "def build_model(i):\n",
    "  model = Sequential()\n",
    "  LSTM(1, input_shape=(i+1,1))\n",
    "  #model.add(Dense(4))\n",
    "  model.add(Dense(3))\n",
    "  model.add(Dense(2))\n",
    "  model.add(Dense(1))\n",
    "  model.compile(loss='mae', optimizer=Adam(learning_rate = 0.01), metrics=[root_mean_squared_error,RSquare()])\n",
    "  return model"
   ]
  },
  {
   "cell_type": "code",
   "execution_count": null,
   "id": "7c3b41f8",
   "metadata": {},
   "outputs": [],
   "source": [
    "%cd .."
   ]
  },
  {
   "cell_type": "code",
   "execution_count": null,
   "id": "18591ece",
   "metadata": {},
   "outputs": [],
   "source": [
    "n = [23,25,27,29,31,33,35,37,39,41,43,45,47,49,51,53,55,57,59,61,63,65,67,69,71,73,75]\n",
    "scale = [1.6,1.8,2,2.2]\n",
    "scale = np.array(scale)\n",
    "shift = np.array(0.5*scale)\n",
    "best_params = []\n",
    "for k in range(len(X)):\n",
    "    for i in range(len(n)):\n",
    "      for j in range(len(scale)):\n",
    "        print('running with ',n[i],scale[j])\n",
    "        X_expanded = np.expand_dims(scale[j]*X[k]-0.5*scale[j], axis=1) \n",
    "        poly = PolynomialFeatures(n[i])\n",
    "        X_expanded = poly.fit_transform(X_expanded)\n",
    "        model = build_model(n[i])\n",
    "        s = \"best_model_\"+files[k][:-5]+\"_\"+str(n[i])+\"_\"+str(scale[j])+\".hdf5\"\n",
    "        model_save = ModelCheckpoint(s,save_best_only = True)\n",
    "        model1 = model.fit(X_expanded,y[k],validation_split = 0.2,epochs = 500,callbacks = [model_save])\n",
    "        best_params.append([n[i],scale[j],max(model1.history['val_r_square']),min(model1.history['val_loss']),min(model1.history['root_mean_squared_error'])])\n",
    "        plt.plot(model.predict(X_expanded))\n",
    "        plt.plot(y[k])\n",
    "        plt.show()\n",
    "        s1 = \"Run_for_file_\" + files[k]+\".csv\"\n",
    "        best_params_df = pd.DataFrame(best_params)\n",
    "        best_params_df.to_csv(s1)"
   ]
  }
 ],
 "metadata": {
  "kernelspec": {
   "display_name": "Python 3",
   "language": "python",
   "name": "python3"
  },
  "language_info": {
   "codemirror_mode": {
    "name": "ipython",
    "version": 3
   },
   "file_extension": ".py",
   "mimetype": "text/x-python",
   "name": "python",
   "nbconvert_exporter": "python",
   "pygments_lexer": "ipython3",
   "version": "3.8.8"
  }
 },
 "nbformat": 4,
 "nbformat_minor": 5
}
